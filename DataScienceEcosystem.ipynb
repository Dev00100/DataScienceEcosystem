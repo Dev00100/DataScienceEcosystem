{
 "cells": [
  {
   "cell_type": "markdown",
   "id": "b887253d",
   "metadata": {},
   "source": [
    "# Data Science Tools and Ecosystem"
   ]
  },
  {
   "cell_type": "markdown",
   "id": "0475ac2b",
   "metadata": {},
   "source": [
    "\n",
    "### In this notebook, Data Science Tools and Ecosystem are summarized.\n"
   ]
  },
  {
   "cell_type": "markdown",
   "id": "fc57d3b1",
   "metadata": {},
   "source": [
    " Some of the popular languages that Data Scientists use are:\n",
    "1. Python\n",
    "2. R\n",
    "3. Julia"
   ]
  },
  {
   "cell_type": "markdown",
   "id": "bd840648",
   "metadata": {},
   "source": [
    " Some of the commonly used libraries used by Data Scientists include:\n",
    "1. NumPy\n",
    "1. Pandas\n",
    "1. Matplotlib\n",
    "\n"
   ]
  },
  {
   "cell_type": "markdown",
   "id": "42df033f",
   "metadata": {},
   "source": [
    "   | Data Science Tools |\n",
    "   | --- |\n",
    "   | Jupyter Notebook |\n",
    "   | RStudio |\n",
    "   | Apache Zeppelin |\n"
   ]
  },
  {
   "cell_type": "markdown",
   "id": "3edcec20",
   "metadata": {},
   "source": [
    "### Below are a few examples of evaluating arithmetic expressions in Python"
   ]
  },
  {
   "cell_type": "code",
   "execution_count": 1,
   "id": "89052a8d",
   "metadata": {},
   "outputs": [
    {
     "data": {
      "text/plain": [
       "17"
      ]
     },
     "execution_count": 1,
     "metadata": {},
     "output_type": "execute_result"
    }
   ],
   "source": [
    "# This is a simple arithmetic expression to miltiply then add integers.\n",
    "(3*4)+5"
   ]
  },
  {
   "cell_type": "code",
   "execution_count": 2,
   "id": "b9551478",
   "metadata": {},
   "outputs": [
    {
     "data": {
      "text/plain": [
       "3.3333333333333335"
      ]
     },
     "execution_count": 2,
     "metadata": {},
     "output_type": "execute_result"
    }
   ],
   "source": [
    "# This wiLL convert 200 minutes to hours by dividing by 60.\n",
    "hours=200 / 60\n",
    "hours"
   ]
  },
  {
   "cell_type": "markdown",
   "id": "311788c2",
   "metadata": {},
   "source": [
    "**Objectives** :\n",
    "\n",
    " **•** List popular languages for Data Science.\n",
    "\n",
    " **•** Explore common Data Science libraries.\n",
    "\n",
    " **•** Introduce key Data Science tools."
   ]
  },
  {
   "cell_type": "markdown",
   "id": "233f9721",
   "metadata": {},
   "source": [
    "## Author\n",
    "\n",
    "BENNIS anass"
   ]
  },
  {
   "cell_type": "code",
   "execution_count": null,
   "id": "c46afb51",
   "metadata": {},
   "outputs": [],
   "source": []
  }
 ],
 "metadata": {
  "kernelspec": {
   "display_name": "Python 3 (ipykernel)",
   "language": "python",
   "name": "python3"
  },
  "language_info": {
   "codemirror_mode": {
    "name": "ipython",
    "version": 3
   },
   "file_extension": ".py",
   "mimetype": "text/x-python",
   "name": "python",
   "nbconvert_exporter": "python",
   "pygments_lexer": "ipython3",
   "version": "3.9.13"
  }
 },
 "nbformat": 4,
 "nbformat_minor": 5
}
